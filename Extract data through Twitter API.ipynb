{
 "cells": [
  {
   "cell_type": "markdown",
   "metadata": {},
   "source": [
    "# Import all the necessary libraries"
   ]
  },
  {
   "cell_type": "code",
   "execution_count": 6,
   "metadata": {},
   "outputs": [],
   "source": [
    "#import tweepy library\n",
    "import tweepy\n",
    "from tweepy.streaming import StreamListener\n",
    "from tweepy import Stream\n",
    "from tweepy import OAuthHandler\n",
    "#lidraries for data analysis\n",
    "import csv\n",
    "import pandas as pd\n",
    "import numpy as np\n",
    "import json"
   ]
  },
  {
   "cell_type": "markdown",
   "metadata": {},
   "source": [
    "# The twitter developer authorization keys"
   ]
  },
  {
   "cell_type": "code",
   "execution_count": 7,
   "metadata": {},
   "outputs": [],
   "source": [
    "#provided by twitter after registered the developer account\n",
    "consumer_key = \"PE2486boZ2jYsTUcCrK6CJULo\"\n",
    "consumer_secret = \"Te4NeuWqLRgQoIUjSX5LVm5UlNGfdsYX1XpLYVWeQ2GHNIuDgX\"\n",
    "access_token = \"820540530236887040-o6AZnRSAhVXdbIMLBJKlGj52Mz3SKlm\"\n",
    "access_token_secret = \"Bve1Pkf4mn5c5ioYHIcs3q530rmT3fO4dfbxgMuyurACi\""
   ]
  },
  {
   "cell_type": "markdown",
   "metadata": {},
   "source": [
    "# Tweepy Authorization handler used to get authorization from twitter"
   ]
  },
  {
   "cell_type": "code",
   "execution_count": 8,
   "metadata": {},
   "outputs": [],
   "source": [
    "#use OAuthhandler to pass keys into twitter\n",
    "auth = tweepy.OAuthHandler(consumer_key, consumer_secret)\n",
    "auth.set_access_token(access_token, access_token_secret)\n",
    "#get authorization from twitter\n",
    "api = tweepy.API(auth)"
   ]
  },
  {
   "cell_type": "markdown",
   "metadata": {},
   "source": [
    "# Use the API.get_user method to get a specified user's profile information"
   ]
  },
  {
   "cell_type": "code",
   "execution_count": 4,
   "metadata": {},
   "outputs": [
    {
     "name": "stdout",
     "output_type": "stream",
     "text": [
      "Name: Donald J. Trump\n",
      "User id:  25073877\n",
      "Description:  45th President of the United States of America🇺🇸\n",
      "Location: Washington, DC\n",
      "Number of Following: 47\n",
      "Number of Followers: 54995532\n",
      "Number of tweets:  39212\n"
     ]
    }
   ],
   "source": [
    "#get user's profile information\n",
    "user = api.get_user('realDonaldTrump')\n",
    "#print out the information obtained after using the method\n",
    "print(\"Name:\", user.name)\n",
    "print(\"User id: \", user.id_str)\n",
    "print(\"Description: \", user.description)\n",
    "print(\"Location:\",user.location)\n",
    "print(\"Number of Following:\",user.friends_count)\n",
    "print(\"Number of Followers:\",user.followers_count)\n",
    "print(\"Number of tweets: \", str(user.statuses_count))"
   ]
  },
  {
   "cell_type": "code",
   "execution_count": 5,
   "metadata": {},
   "outputs": [
    {
     "name": "stdout",
     "output_type": "stream",
     "text": [
      "Name: University of Toronto\n",
      "User id:  821814254\n",
      "Description:  Connect with Canada's top university and one of the world’s strongest academic and research powerhouses. Find the latest news & events @uoftnews. #UofT\n",
      "Location: Toronto, Ontario, Canada\n",
      "Number of Following: 757\n",
      "Number of Followers: 49564\n",
      "Number of tweets:  10567\n"
     ]
    }
   ],
   "source": [
    "user = api.get_user('uoft')\n",
    "\n",
    "print(\"Name:\", user.name)\n",
    "print(\"User id: \", user.id_str)\n",
    "print(\"Description: \", user.description)\n",
    "print(\"Location:\",user.location)\n",
    "print(\"Number of Following:\",user.friends_count)\n",
    "print(\"Number of Followers:\",user.followers_count)\n",
    "print(\"Number of tweets: \", str(user.statuses_count))"
   ]
  },
  {
   "cell_type": "markdown",
   "metadata": {},
   "source": [
    "# Use API.user_timeline method to get tweets from a specified user's timeline"
   ]
  },
  {
   "cell_type": "code",
   "execution_count": 6,
   "metadata": {},
   "outputs": [
    {
     "name": "stdout",
     "output_type": "stream",
     "text": [
      "RT @FLGovScott: If you’re in an evacuation zone, I am urging you to leave RIGHT NOW. Do not risk your life or the lives of your loved ones-…\n",
      "THANK YOU IOWA &amp; NEBRASKA! VOTE, VOTE, VOTE! https://t.co/0pWiwCHGbh https://t.co/tzkiQ4IlEd\n",
      "https://t.co/CPf3oxgdRX\n",
      "Beautiful evening in Iowa. GOD BLESS THE U.S.A.! #MAGA🇺🇸 https://t.co/Zi0rwyajrz\n",
      "RT @fema: Flooding from Hurricane #Michael will affect several states. Finish preparations ASAP and get ready to shelter in a safe location…\n",
      "RT @FLOTUS: Thank you Egypt 🇪🇬 🇺🇸 https://t.co/7i0POn29XN\n",
      "RT @FLOTUS: Thank you Kenya 🇰🇪 🇺🇸 https://t.co/5FXP7Ki3Zw\n",
      ".@FLGovScott has been relentless in securing the funding to fix the algae problem from Lake Okeechobee - we will so… https://t.co/6XMMjQ0V4v\n",
      "RT @Scavino45: Congratulations to our 114th Supreme Court Justice, Brett M. Kavanaugh! #SCOTUS🏛🇺🇸\n",
      "\n",
      "🔟📸https://t.co/c3YdNNcU7c https://t.co/A…\n",
      "“President Donald J. Trump Approves Florida Emergency Declaration” https://t.co/TnTDCvs41W\n",
      "REGISTER TO VOTE! https://t.co/0pWiwCHGbh https://t.co/3vYfDmpqiH\n",
      "FLORIDA - It is imperative that you heed the directions of your State and Local Officials. Please be prepared, be c… https://t.co/wPghUO1OF2\n",
      "...Looks to be a Cat. 3 which is even more intense than Florence. Good news is, the folks in the Pan Handle can tak… https://t.co/60JuUt9tp9\n",
      "Hurricane on its way to the Florida Pan Handle with major elements arriving tomorrow. Could also hit, in later stag… https://t.co/xycrRUIBTh\n",
      "Big announcement with my friend Ambassador Nikki Haley in the Oval Office at 10:30am.\n",
      "RT @realDonaldTrump: https://t.co/4ySIkmfllE\n",
      "Will be going to Iowa tonight for Rally, and more! The Farmers (and all) are very happy with USMCA!\n",
      "Great evening last night at the White House honoring Justice Kavanaugh and family. Our country is very proud of them!\n",
      "The paid D.C. protesters are now ready to REALLY protest because they haven’t gotten their checks - in other words,… https://t.co/3es06u6W6e\n",
      "RT @NWSTallahassee: 8am Intermediate Advisory from @NHC_Atlantic upgrades #HurricaneMichael into a category 2 hurricane. Keep in mind, wind…\n"
     ]
    }
   ],
   "source": [
    "#get tweets in the user's timeline\n",
    "public_tweets = api.user_timeline('realdonaldtrump')\n",
    "#for loop to read through the tweets  \n",
    "for tweet in public_tweets:  \n",
    "    print (tweet.text) "
   ]
  },
  {
   "cell_type": "markdown",
   "metadata": {},
   "source": [
    "# Use API.search method to search for tweets containing a specific keyowrd or hashtag in twitter"
   ]
  },
  {
   "cell_type": "code",
   "execution_count": 7,
   "metadata": {},
   "outputs": [
    {
     "name": "stdout",
     "output_type": "stream",
     "text": [
      "2018-10-10 03:43:41 RT @uoftlibraries: This afternoon at 4:10pm we are celebrating the grand opening of the  newly renovated Reflection Room on the 8th floor o…\n",
      "2018-10-10 03:42:48 RT @UofT: Do you have what it takes to be a national anthem singer for @Varsity_Blues games this year? Show us what you got #UofT! 🗣 https:…\n",
      "2018-10-10 03:24:36 RT @UofT: #UofT researchers, such as @ReneeHlozek have received almost $35 million in @NSERC_CRSNG funding, from research funding programs…\n",
      "2018-10-10 02:59:52 BEST NEW BOOK! \n",
      "https://t.co/ptgR4asaHd\n",
      "#ET #HappeningNow #facethenation #foxreport #thedailyshow #thisweek… https://t.co/0Kvl3xHuh4\n",
      "2018-10-10 02:54:26 RT @sarah_crome: Congrats Laura and David! #UofT @pmcancercentre https://t.co/rqFwzSjZJT\n"
     ]
    }
   ],
   "source": [
    "#search most recent 5 tweets contain #UofT\n",
    "for tweet in tweepy.Cursor(api.search, q = \"#UofT\", lang = \"en\", since = \"2018-10-2\").items(5):\n",
    "    #lang = Restricts tweets to the given language\n",
    "    #since = Return result with an ID greater tgan specified ID\n",
    "    #print out the obtained tweets which contain #donaldtrump\n",
    "    print(tweet.created_at, tweet.text)"
   ]
  },
  {
   "cell_type": "markdown",
   "metadata": {},
   "source": [
    "# Use Pandas to create data frame to sort out the tweets that obtained"
   ]
  },
  {
   "cell_type": "code",
   "execution_count": 8,
   "metadata": {},
   "outputs": [],
   "source": [
    "#create dataframe using pandas\n",
    "def tweets_to_data_frame(tweets):\n",
    "    df = pd.DataFrame(data=[tweet.text for tweet in tweets], columns=['Tweets'])\n",
    "    #data frame headings\n",
    "    df['id'] = np.array([tweet.id for tweet in tweets])\n",
    "    df['len'] = np.array([len(tweet.text) for tweet in tweets])\n",
    "    df['date'] = np.array([tweet.created_at for tweet in tweets])\n",
    "    df['source'] = np.array([tweet.source for tweet in tweets])\n",
    "    df['likes'] = np.array([tweet.favorite_count for tweet in tweets])\n",
    "    df['retweets'] = np.array([tweet.retweet_count for tweet in tweets])\n",
    "    return df"
   ]
  },
  {
   "cell_type": "markdown",
   "metadata": {},
   "source": [
    "# Use API.user_timeline method to get tweets from a specified user's timeline AND save the data in a CSV file"
   ]
  },
  {
   "cell_type": "code",
   "execution_count": 12,
   "metadata": {
    "scrolled": true
   },
   "outputs": [
    {
     "name": "stdout",
     "output_type": "stream",
     "text": [
      "                                              Tweets                   id  \\\n",
      "0  RT @FLGovScott: If you’re in an evacuation zon...  1049849039418679296   \n",
      "1  THANK YOU IOWA &amp; NEBRASKA! VOTE, VOTE, VOT...  1049832845592723457   \n",
      "2                            https://t.co/CPf3oxgdRX  1049831428115062790   \n",
      "3  Beautiful evening in Iowa. GOD BLESS THE U.S.A...  1049829285677203456   \n",
      "4  RT @fema: Flooding from Hurricane #Michael wil...  1049786137500217345   \n",
      "5  RT @FLOTUS: Thank you Egypt 🇪🇬 🇺🇸 https://t.co...  1049781519424712704   \n",
      "6  RT @FLOTUS: Thank you Kenya 🇰🇪 🇺🇸 https://t.co...  1049781513347194880   \n",
      "7  .@FLGovScott has been relentless in securing t...  1049776359239643136   \n",
      "8  RT @Scavino45: Congratulations to our 114th Su...  1049775219693375489   \n",
      "9  “President Donald J. Trump Approves Florida Em...  1049738503389675521   \n",
      "\n",
      "   len                date              source  likes  retweets  \n",
      "0  140 2018-10-10 02:28:10  Twitter for iPhone      0      3675  \n",
      "1   96 2018-10-10 01:23:49  Twitter for iPhone  23496      5878  \n",
      "2   23 2018-10-10 01:18:12  Twitter for iPhone  15373      4150  \n",
      "3   80 2018-10-10 01:09:41  Twitter for iPhone  37164      9356  \n",
      "4  140 2018-10-09 22:18:13  Twitter for iPhone      0      3162  \n",
      "5   57 2018-10-09 21:59:52  Twitter for iPhone      0     11440  \n",
      "6   57 2018-10-09 21:59:51  Twitter for iPhone      0     13238  \n",
      "7  140 2018-10-09 21:39:22  Twitter for iPhone  38796     10533  \n",
      "8  140 2018-10-09 21:34:50  Twitter for iPhone      0      4482  \n",
      "9   90 2018-10-09 19:08:57  Twitter for iPhone  26575      6270  \n"
     ]
    }
   ],
   "source": [
    "#get tweets from user\n",
    "tweets = api.user_timeline('realDonaldTrump')\n",
    "#turn tweets obtained and sort into data frame created\n",
    "df = tweets_to_data_frame(tweets)\n",
    "print(df.head(10))\n",
    "#Turn the data frame into a CSV file called Tweets_Data.csv\n",
    "df.to_csv('Tweets_Data.csv', index = True, sep = ',')"
   ]
  },
  {
   "cell_type": "markdown",
   "metadata": {},
   "source": [
    "# Create a CSV file to save tweets containing a specific keyword or Hashtag"
   ]
  },
  {
   "cell_type": "code",
   "execution_count": 13,
   "metadata": {},
   "outputs": [],
   "source": [
    "#Open/Create a file to append data\n",
    "csvFile = open('UofT.csv', 'w')\n",
    "csvWriter = csv.writer(csvFile)"
   ]
  },
  {
   "cell_type": "markdown",
   "metadata": {},
   "source": [
    "# CSV file that containing tweets with hashtag #uoft"
   ]
  },
  {
   "cell_type": "code",
   "execution_count": 14,
   "metadata": {},
   "outputs": [
    {
     "name": "stdout",
     "output_type": "stream",
     "text": [
      "2018-10-10 03:43:41 RT @uoftlibraries: This afternoon at 4:10pm we are celebrating the grand opening of the  newly renovated Reflection Room on the 8th floor o…\n",
      "2018-10-10 03:42:48 RT @UofT: Do you have what it takes to be a national anthem singer for @Varsity_Blues games this year? Show us what you got #UofT! 🗣 https:…\n",
      "2018-10-10 03:24:36 RT @UofT: #UofT researchers, such as @ReneeHlozek have received almost $35 million in @NSERC_CRSNG funding, from research funding programs…\n",
      "2018-10-10 02:59:52 BEST NEW BOOK! \n",
      "https://t.co/ptgR4asaHd\n",
      "#ET #HappeningNow #facethenation #foxreport #thedailyshow #thisweek… https://t.co/0Kvl3xHuh4\n",
      "2018-10-10 02:54:26 RT @sarah_crome: Congrats Laura and David! #UofT @pmcancercentre https://t.co/rqFwzSjZJT\n"
     ]
    }
   ],
   "source": [
    "#for loop used to read all tweets containing #uoft\n",
    "for tweet in tweepy.Cursor(api.search, q = \"#UofT\", count = 100, lang = \"en\", since = \"2018-10-8\").items(5):\n",
    "    print(tweet.created_at, tweet.text)\n",
    "    #write tweets with #UofT into the file UofT.csv\n",
    "    csvWriter.writerow([tweet.created_at, tweet.text.encode('utf-8')])\n",
    "csvFile.close()"
   ]
  },
  {
   "cell_type": "code",
   "execution_count": 9,
   "metadata": {},
   "outputs": [],
   "source": [
    "#This is a basic listener that just prints received tweets to stdout.\n",
    "class StdOutListener(StreamListener):\n",
    "    def on_data(self, data):\n",
    "        print(data)\n",
    "        return True\n",
    "\n",
    "    def on_error(self, status):\n",
    "        print(status)"
   ]
  },
  {
   "cell_type": "code",
   "execution_count": null,
   "metadata": {},
   "outputs": [
    {
     "name": "stdout",
     "output_type": "stream",
     "text": [
      "{\"created_at\":\"Wed Oct 10 04:02:00 +0000 2018\",\"id\":1049872650078584832,\"id_str\":\"1049872650078584832\",\"text\":\"RT @CAN_ACN: Postdoctoral Fellowship in Neuroscience \\u2013 Woodin laboratory @UofT @Mawoodin https:\\/\\/t.co\\/JqswvdQWeJ #neurojobs https:\\/\\/t.co\\/Jr\\u2026\",\"source\":\"\\u003ca href=\\\"http:\\/\\/twitter.com\\/download\\/iphone\\\" rel=\\\"nofollow\\\"\\u003eTwitter for iPhone\\u003c\\/a\\u003e\",\"truncated\":false,\"in_reply_to_status_id\":null,\"in_reply_to_status_id_str\":null,\"in_reply_to_user_id\":null,\"in_reply_to_user_id_str\":null,\"in_reply_to_screen_name\":null,\"user\":{\"id\":2766506886,\"id_str\":\"2766506886\",\"name\":\"Richard Dyck\",\"screen_name\":\"drrdyck\",\"location\":\"Calgary, Alberta\",\"url\":null,\"description\":\"Neuroscientist, Activity- and experience-dependent plasticity, Cerebral Cortex, Zinc; @UCalgary; former @ULethbridge @UBC @Salk\",\"translator_type\":\"none\",\"protected\":false,\"verified\":false,\"followers_count\":249,\"friends_count\":206,\"listed_count\":1,\"favourites_count\":3664,\"statuses_count\":273,\"created_at\":\"Mon Aug 25 14:29:48 +0000 2014\",\"utc_offset\":null,\"time_zone\":null,\"geo_enabled\":true,\"lang\":\"en\",\"contributors_enabled\":false,\"is_translator\":false,\"profile_background_color\":\"000000\",\"profile_background_image_url\":\"http:\\/\\/abs.twimg.com\\/images\\/themes\\/theme1\\/bg.png\",\"profile_background_image_url_https\":\"https:\\/\\/abs.twimg.com\\/images\\/themes\\/theme1\\/bg.png\",\"profile_background_tile\":false,\"profile_link_color\":\"981CEB\",\"profile_sidebar_border_color\":\"000000\",\"profile_sidebar_fill_color\":\"000000\",\"profile_text_color\":\"000000\",\"profile_use_background_image\":false,\"profile_image_url\":\"http:\\/\\/pbs.twimg.com\\/profile_images\\/985311027209297925\\/5UOAG8Cn_normal.jpg\",\"profile_image_url_https\":\"https:\\/\\/pbs.twimg.com\\/profile_images\\/985311027209297925\\/5UOAG8Cn_normal.jpg\",\"default_profile\":false,\"default_profile_image\":false,\"following\":null,\"follow_request_sent\":null,\"notifications\":null},\"geo\":null,\"coordinates\":null,\"place\":null,\"contributors\":null,\"retweeted_status\":{\"created_at\":\"Tue Oct 09 19:00:17 +0000 2018\",\"id\":1049736323463032833,\"id_str\":\"1049736323463032833\",\"text\":\"Postdoctoral Fellowship in Neuroscience \\u2013 Woodin laboratory @UofT @Mawoodin https:\\/\\/t.co\\/JqswvdQWeJ #neurojobs https:\\/\\/t.co\\/JrysJcCP80\",\"display_text_range\":[0,110],\"source\":\"\\u003ca href=\\\"https:\\/\\/www.hootsuite.com\\\" rel=\\\"nofollow\\\"\\u003eHootsuite Inc.\\u003c\\/a\\u003e\",\"truncated\":false,\"in_reply_to_status_id\":null,\"in_reply_to_status_id_str\":null,\"in_reply_to_user_id\":null,\"in_reply_to_user_id_str\":null,\"in_reply_to_screen_name\":null,\"user\":{\"id\":355796874,\"id_str\":\"355796874\",\"name\":\"CAN ACN\",\"screen_name\":\"CAN_ACN\",\"location\":\"Canada\",\"url\":\"http:\\/\\/can-acn.org\",\"description\":\"Canadian Association for Neuroscience - Association Canadienne des Neurosciences.\",\"translator_type\":\"none\",\"protected\":false,\"verified\":false,\"followers_count\":2872,\"friends_count\":1061,\"listed_count\":81,\"favourites_count\":6060,\"statuses_count\":9871,\"created_at\":\"Mon Aug 15 22:19:55 +0000 2011\",\"utc_offset\":null,\"time_zone\":null,\"geo_enabled\":false,\"lang\":\"fr\",\"contributors_enabled\":false,\"is_translator\":false,\"profile_background_color\":\"C0DEED\",\"profile_background_image_url\":\"http:\\/\\/abs.twimg.com\\/images\\/themes\\/theme1\\/bg.png\",\"profile_background_image_url_https\":\"https:\\/\\/abs.twimg.com\\/images\\/themes\\/theme1\\/bg.png\",\"profile_background_tile\":false,\"profile_link_color\":\"1DA1F2\",\"profile_sidebar_border_color\":\"C0DEED\",\"profile_sidebar_fill_color\":\"DDEEF6\",\"profile_text_color\":\"333333\",\"profile_use_background_image\":true,\"profile_image_url\":\"http:\\/\\/pbs.twimg.com\\/profile_images\\/677191558555308032\\/b8l3Qk-M_normal.png\",\"profile_image_url_https\":\"https:\\/\\/pbs.twimg.com\\/profile_images\\/677191558555308032\\/b8l3Qk-M_normal.png\",\"profile_banner_url\":\"https:\\/\\/pbs.twimg.com\\/profile_banners\\/355796874\\/1469022686\",\"default_profile\":true,\"default_profile_image\":false,\"following\":null,\"follow_request_sent\":null,\"notifications\":null},\"geo\":null,\"coordinates\":null,\"place\":null,\"contributors\":null,\"is_quote_status\":false,\"quote_count\":0,\"reply_count\":0,\"retweet_count\":2,\"favorite_count\":4,\"entities\":{\"hashtags\":[{\"text\":\"neurojobs\",\"indices\":[100,110]}],\"urls\":[{\"url\":\"https:\\/\\/t.co\\/JqswvdQWeJ\",\"expanded_url\":\"http:\\/\\/ow.ly\\/qnjR30maeX5\",\"display_url\":\"ow.ly\\/qnjR30maeX5\",\"indices\":[76,99]}],\"user_mentions\":[{\"screen_name\":\"UofT\",\"name\":\"University of Toronto\",\"id\":821814254,\"id_str\":\"821814254\",\"indices\":[60,65]},{\"screen_name\":\"Mawoodin\",\"name\":\"Melanie Woodin\",\"id\":327984184,\"id_str\":\"327984184\",\"indices\":[66,75]}],\"symbols\":[],\"media\":[{\"id\":1049736321831329792,\"id_str\":\"1049736321831329792\",\"indices\":[111,134],\"media_url\":\"http:\\/\\/pbs.twimg.com\\/media\\/DpFpn3qU4AAcyBx.jpg\",\"media_url_https\":\"https:\\/\\/pbs.twimg.com\\/media\\/DpFpn3qU4AAcyBx.jpg\",\"url\":\"https:\\/\\/t.co\\/JrysJcCP80\",\"display_url\":\"pic.twitter.com\\/JrysJcCP80\",\"expanded_url\":\"https:\\/\\/twitter.com\\/CAN_ACN\\/status\\/1049736323463032833\\/photo\\/1\",\"type\":\"photo\",\"sizes\":{\"thumb\":{\"w\":150,\"h\":150,\"resize\":\"crop\"},\"large\":{\"w\":200,\"h\":200,\"resize\":\"fit\"},\"medium\":{\"w\":200,\"h\":200,\"resize\":\"fit\"},\"small\":{\"w\":200,\"h\":200,\"resize\":\"fit\"}}}]},\"extended_entities\":{\"media\":[{\"id\":1049736321831329792,\"id_str\":\"1049736321831329792\",\"indices\":[111,134],\"media_url\":\"http:\\/\\/pbs.twimg.com\\/media\\/DpFpn3qU4AAcyBx.jpg\",\"media_url_https\":\"https:\\/\\/pbs.twimg.com\\/media\\/DpFpn3qU4AAcyBx.jpg\",\"url\":\"https:\\/\\/t.co\\/JrysJcCP80\",\"display_url\":\"pic.twitter.com\\/JrysJcCP80\",\"expanded_url\":\"https:\\/\\/twitter.com\\/CAN_ACN\\/status\\/1049736323463032833\\/photo\\/1\",\"type\":\"photo\",\"sizes\":{\"thumb\":{\"w\":150,\"h\":150,\"resize\":\"crop\"},\"large\":{\"w\":200,\"h\":200,\"resize\":\"fit\"},\"medium\":{\"w\":200,\"h\":200,\"resize\":\"fit\"},\"small\":{\"w\":200,\"h\":200,\"resize\":\"fit\"}}}]},\"favorited\":false,\"retweeted\":false,\"possibly_sensitive\":false,\"filter_level\":\"low\",\"lang\":\"en\"},\"is_quote_status\":false,\"quote_count\":0,\"reply_count\":0,\"retweet_count\":0,\"favorite_count\":0,\"entities\":{\"hashtags\":[{\"text\":\"neurojobs\",\"indices\":[113,123]}],\"urls\":[{\"url\":\"https:\\/\\/t.co\\/JqswvdQWeJ\",\"expanded_url\":\"http:\\/\\/ow.ly\\/qnjR30maeX5\",\"display_url\":\"ow.ly\\/qnjR30maeX5\",\"indices\":[89,112]}],\"user_mentions\":[{\"screen_name\":\"CAN_ACN\",\"name\":\"CAN ACN\",\"id\":355796874,\"id_str\":\"355796874\",\"indices\":[3,11]},{\"screen_name\":\"UofT\",\"name\":\"University of Toronto\",\"id\":821814254,\"id_str\":\"821814254\",\"indices\":[73,78]},{\"screen_name\":\"Mawoodin\",\"name\":\"Melanie Woodin\",\"id\":327984184,\"id_str\":\"327984184\",\"indices\":[79,88]}],\"symbols\":[]},\"favorited\":false,\"retweeted\":false,\"possibly_sensitive\":false,\"filter_level\":\"low\",\"lang\":\"en\",\"timestamp_ms\":\"1539144120126\"}\n",
      "\n",
      "{\"created_at\":\"Wed Oct 10 04:04:22 +0000 2018\",\"id\":1049873249260187648,\"id_str\":\"1049873249260187648\",\"text\":\"@UofT i have found an id card nd ttc pass of student named Zhao Pan ( 100462666). Its with me. Can u reach out to that student?\",\"source\":\"\\u003ca href=\\\"http:\\/\\/twitter.com\\/download\\/android\\\" rel=\\\"nofollow\\\"\\u003eTwitter for Android\\u003c\\/a\\u003e\",\"truncated\":false,\"in_reply_to_status_id\":null,\"in_reply_to_status_id_str\":null,\"in_reply_to_user_id\":821814254,\"in_reply_to_user_id_str\":\"821814254\",\"in_reply_to_screen_name\":\"UofT\",\"user\":{\"id\":4168531452,\"id_str\":\"4168531452\",\"name\":\"Mathew Grewal\",\"screen_name\":\"MathewGrewal\",\"location\":null,\"url\":null,\"description\":null,\"translator_type\":\"none\",\"protected\":false,\"verified\":false,\"followers_count\":91,\"friends_count\":61,\"listed_count\":0,\"favourites_count\":846,\"statuses_count\":133,\"created_at\":\"Sun Nov 08 13:34:32 +0000 2015\",\"utc_offset\":null,\"time_zone\":null,\"geo_enabled\":false,\"lang\":\"en\",\"contributors_enabled\":false,\"is_translator\":false,\"profile_background_color\":\"C0DEED\",\"profile_background_image_url\":\"http:\\/\\/abs.twimg.com\\/images\\/themes\\/theme1\\/bg.png\",\"profile_background_image_url_https\":\"https:\\/\\/abs.twimg.com\\/images\\/themes\\/theme1\\/bg.png\",\"profile_background_tile\":false,\"profile_link_color\":\"1DA1F2\",\"profile_sidebar_border_color\":\"C0DEED\",\"profile_sidebar_fill_color\":\"DDEEF6\",\"profile_text_color\":\"333333\",\"profile_use_background_image\":true,\"profile_image_url\":\"http:\\/\\/pbs.twimg.com\\/profile_images\\/725345536707039232\\/H3RTmb9y_normal.jpg\",\"profile_image_url_https\":\"https:\\/\\/pbs.twimg.com\\/profile_images\\/725345536707039232\\/H3RTmb9y_normal.jpg\",\"profile_banner_url\":\"https:\\/\\/pbs.twimg.com\\/profile_banners\\/4168531452\\/1453396230\",\"default_profile\":true,\"default_profile_image\":false,\"following\":null,\"follow_request_sent\":null,\"notifications\":null},\"geo\":null,\"coordinates\":null,\"place\":null,\"contributors\":null,\"is_quote_status\":false,\"quote_count\":0,\"reply_count\":0,\"retweet_count\":0,\"favorite_count\":0,\"entities\":{\"hashtags\":[],\"urls\":[],\"user_mentions\":[{\"screen_name\":\"UofT\",\"name\":\"University of Toronto\",\"id\":821814254,\"id_str\":\"821814254\",\"indices\":[0,5]}],\"symbols\":[]},\"favorited\":false,\"retweeted\":false,\"filter_level\":\"low\",\"lang\":\"en\",\"timestamp_ms\":\"1539144262982\"}\n",
      "\n"
     ]
    },
    {
     "name": "stdout",
     "output_type": "stream",
     "text": [
      "{\"created_at\":\"Wed Oct 10 04:05:44 +0000 2018\",\"id\":1049873591578312707,\"id_str\":\"1049873591578312707\",\"text\":\"RT @uoftmagazine: A great landscape architect must also be a bit of a pugilist. Read how #UofT alum Claude Cormier brought the\\nfight to Tor\\u2026\",\"source\":\"\\u003ca href=\\\"http:\\/\\/twitter.com\\/download\\/android\\\" rel=\\\"nofollow\\\"\\u003eTwitter for Android\\u003c\\/a\\u003e\",\"truncated\":false,\"in_reply_to_status_id\":null,\"in_reply_to_status_id_str\":null,\"in_reply_to_user_id\":null,\"in_reply_to_user_id_str\":null,\"in_reply_to_screen_name\":null,\"user\":{\"id\":414218565,\"id_str\":\"414218565\",\"name\":\"Old Town Toronto\",\"screen_name\":\"OldTownToronto\",\"location\":\"Toronto\",\"url\":\"http:\\/\\/oldtowntoronto.ca\",\"description\":\"Welcome to Toronto's Birthplace!\",\"translator_type\":\"none\",\"protected\":false,\"verified\":false,\"followers_count\":2780,\"friends_count\":877,\"listed_count\":131,\"favourites_count\":1929,\"statuses_count\":9638,\"created_at\":\"Wed Nov 16 19:46:07 +0000 2011\",\"utc_offset\":null,\"time_zone\":null,\"geo_enabled\":true,\"lang\":\"en\",\"contributors_enabled\":false,\"is_translator\":false,\"profile_background_color\":\"FFFFFF\",\"profile_background_image_url\":\"http:\\/\\/abs.twimg.com\\/images\\/themes\\/theme1\\/bg.png\",\"profile_background_image_url_https\":\"https:\\/\\/abs.twimg.com\\/images\\/themes\\/theme1\\/bg.png\",\"profile_background_tile\":false,\"profile_link_color\":\"BB3200\",\"profile_sidebar_border_color\":\"F1F1F1\",\"profile_sidebar_fill_color\":\"F9F9F9\",\"profile_text_color\":\"333333\",\"profile_use_background_image\":false,\"profile_image_url\":\"http:\\/\\/pbs.twimg.com\\/profile_images\\/3636909257\\/b38023be6964706dcf139872b608e2bb_normal.jpeg\",\"profile_image_url_https\":\"https:\\/\\/pbs.twimg.com\\/profile_images\\/3636909257\\/b38023be6964706dcf139872b608e2bb_normal.jpeg\",\"profile_banner_url\":\"https:\\/\\/pbs.twimg.com\\/profile_banners\\/414218565\\/1527269763\",\"default_profile\":false,\"default_profile_image\":false,\"following\":null,\"follow_request_sent\":null,\"notifications\":null},\"geo\":null,\"coordinates\":null,\"place\":null,\"contributors\":null,\"retweeted_status\":{\"created_at\":\"Tue Oct 09 13:32:49 +0000 2018\",\"id\":1049653916219179010,\"id_str\":\"1049653916219179010\",\"text\":\"A great landscape architect must also be a bit of a pugilist. Read how #UofT alum Claude Cormier brought the\\nfight\\u2026 https:\\/\\/t.co\\/mcjDtg67Bj\",\"display_text_range\":[0,140],\"source\":\"\\u003ca href=\\\"http:\\/\\/twitter.com\\\" rel=\\\"nofollow\\\"\\u003eTwitter Web Client\\u003c\\/a\\u003e\",\"truncated\":true,\"in_reply_to_status_id\":null,\"in_reply_to_status_id_str\":null,\"in_reply_to_user_id\":null,\"in_reply_to_user_id_str\":null,\"in_reply_to_screen_name\":null,\"user\":{\"id\":29241141,\"id_str\":\"29241141\",\"name\":\"University of Toronto Magazine\",\"screen_name\":\"uoftmagazine\",\"location\":\"Toronto\",\"url\":\"http:\\/\\/magazine.utoronto.ca\",\"description\":\"Interesting people. Great ideas. Boundless possibilities. Tweets for the University of Toronto community c\\/o our editors and staff.\",\"translator_type\":\"none\",\"protected\":false,\"verified\":false,\"followers_count\":12266,\"friends_count\":792,\"listed_count\":368,\"favourites_count\":2819,\"statuses_count\":11357,\"created_at\":\"Mon Apr 06 17:01:40 +0000 2009\",\"utc_offset\":null,\"time_zone\":null,\"geo_enabled\":false,\"lang\":\"en\",\"contributors_enabled\":false,\"is_translator\":false,\"profile_background_color\":\"C6E2EE\",\"profile_background_image_url\":\"http:\\/\\/abs.twimg.com\\/images\\/themes\\/theme2\\/bg.gif\",\"profile_background_image_url_https\":\"https:\\/\\/abs.twimg.com\\/images\\/themes\\/theme2\\/bg.gif\",\"profile_background_tile\":false,\"profile_link_color\":\"1F44D9\",\"profile_sidebar_border_color\":\"FFFFFF\",\"profile_sidebar_fill_color\":\"DAECF4\",\"profile_text_color\":\"289FFA\",\"profile_use_background_image\":true,\"profile_image_url\":\"http:\\/\\/pbs.twimg.com\\/profile_images\\/1047190834309869568\\/nA-IojTs_normal.jpg\",\"profile_image_url_https\":\"https:\\/\\/pbs.twimg.com\\/profile_images\\/1047190834309869568\\/nA-IojTs_normal.jpg\",\"profile_banner_url\":\"https:\\/\\/pbs.twimg.com\\/profile_banners\\/29241141\\/1538505087\",\"default_profile\":false,\"default_profile_image\":false,\"following\":null,\"follow_request_sent\":null,\"notifications\":null},\"geo\":null,\"coordinates\":null,\"place\":null,\"contributors\":null,\"is_quote_status\":false,\"extended_tweet\":{\"full_text\":\"A great landscape architect must also be a bit of a pugilist. Read how #UofT alum Claude Cormier brought the\\nfight to Toronto \\u2013 and won: https:\\/\\/t.co\\/V4IQIopxYl https:\\/\\/t.co\\/Qs22xla2Ud\",\"display_text_range\":[0,160],\"entities\":{\"hashtags\":[{\"text\":\"UofT\",\"indices\":[71,76]}],\"urls\":[{\"url\":\"https:\\/\\/t.co\\/V4IQIopxYl\",\"expanded_url\":\"http:\\/\\/uoft.me\\/ClaudeCormier\",\"display_url\":\"uoft.me\\/ClaudeCormier\",\"indices\":[137,160]}],\"user_mentions\":[],\"symbols\":[],\"media\":[{\"id\":1049653429247909892,\"id_str\":\"1049653429247909892\",\"indices\":[161,184],\"media_url\":\"http:\\/\\/pbs.twimg.com\\/media\\/DpEeO4uXoAQvNXt.jpg\",\"media_url_https\":\"https:\\/\\/pbs.twimg.com\\/media\\/DpEeO4uXoAQvNXt.jpg\",\"url\":\"https:\\/\\/t.co\\/Qs22xla2Ud\",\"display_url\":\"pic.twitter.com\\/Qs22xla2Ud\",\"expanded_url\":\"https:\\/\\/twitter.com\\/uoftmagazine\\/status\\/1049653916219179010\\/photo\\/1\",\"type\":\"photo\",\"sizes\":{\"thumb\":{\"w\":150,\"h\":150,\"resize\":\"crop\"},\"large\":{\"w\":2048,\"h\":1365,\"resize\":\"fit\"},\"medium\":{\"w\":1200,\"h\":800,\"resize\":\"fit\"},\"small\":{\"w\":680,\"h\":453,\"resize\":\"fit\"}}}]},\"extended_entities\":{\"media\":[{\"id\":1049653429247909892,\"id_str\":\"1049653429247909892\",\"indices\":[161,184],\"media_url\":\"http:\\/\\/pbs.twimg.com\\/media\\/DpEeO4uXoAQvNXt.jpg\",\"media_url_https\":\"https:\\/\\/pbs.twimg.com\\/media\\/DpEeO4uXoAQvNXt.jpg\",\"url\":\"https:\\/\\/t.co\\/Qs22xla2Ud\",\"display_url\":\"pic.twitter.com\\/Qs22xla2Ud\",\"expanded_url\":\"https:\\/\\/twitter.com\\/uoftmagazine\\/status\\/1049653916219179010\\/photo\\/1\",\"type\":\"photo\",\"sizes\":{\"thumb\":{\"w\":150,\"h\":150,\"resize\":\"crop\"},\"large\":{\"w\":2048,\"h\":1365,\"resize\":\"fit\"},\"medium\":{\"w\":1200,\"h\":800,\"resize\":\"fit\"},\"small\":{\"w\":680,\"h\":453,\"resize\":\"fit\"}}}]}},\"quote_count\":1,\"reply_count\":0,\"retweet_count\":4,\"favorite_count\":10,\"entities\":{\"hashtags\":[{\"text\":\"UofT\",\"indices\":[71,76]}],\"urls\":[{\"url\":\"https:\\/\\/t.co\\/mcjDtg67Bj\",\"expanded_url\":\"https:\\/\\/twitter.com\\/i\\/web\\/status\\/1049653916219179010\",\"display_url\":\"twitter.com\\/i\\/web\\/status\\/1\\u2026\",\"indices\":[116,139]}],\"user_mentions\":[],\"symbols\":[]},\"favorited\":false,\"retweeted\":false,\"possibly_sensitive\":false,\"filter_level\":\"low\",\"lang\":\"en\"},\"is_quote_status\":false,\"quote_count\":0,\"reply_count\":0,\"retweet_count\":0,\"favorite_count\":0,\"entities\":{\"hashtags\":[{\"text\":\"UofT\",\"indices\":[89,94]}],\"urls\":[],\"user_mentions\":[{\"screen_name\":\"uoftmagazine\",\"name\":\"University of Toronto Magazine\",\"id\":29241141,\"id_str\":\"29241141\",\"indices\":[3,16]}],\"symbols\":[]},\"favorited\":false,\"retweeted\":false,\"filter_level\":\"low\",\"lang\":\"en\",\"timestamp_ms\":\"1539144344597\"}\r\n",
      "\n"
     ]
    }
   ],
   "source": [
    "if __name__ == '__main__':\n",
    "\n",
    "    #This handles Twitter authetification and the connection to Twitter Streaming API.\n",
    "    l = StdOutListener()\n",
    "    auth = OAuthHandler(consumer_key, consumer_secret)\n",
    "    auth.set_access_token(access_token, access_token_secret)\n",
    "    stream = Stream(auth, l)\n",
    "\n",
    "    #This line filter Twitter Streams to capture data by the keywords: 'UofT'\n",
    "    stream.filter(track=['UofT'])"
   ]
  }
 ],
 "metadata": {
  "kernelspec": {
   "display_name": "Python 3",
   "language": "python",
   "name": "python3"
  },
  "language_info": {
   "codemirror_mode": {
    "name": "ipython",
    "version": 3
   },
   "file_extension": ".py",
   "mimetype": "text/x-python",
   "name": "python",
   "nbconvert_exporter": "python",
   "pygments_lexer": "ipython3",
   "version": "3.6.6"
  }
 },
 "nbformat": 4,
 "nbformat_minor": 2
}
